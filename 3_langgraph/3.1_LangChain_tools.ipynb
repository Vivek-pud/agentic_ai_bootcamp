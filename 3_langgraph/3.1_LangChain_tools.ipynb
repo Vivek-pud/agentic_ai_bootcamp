{
 "cells": [
  {
   "cell_type": "code",
   "execution_count": null,
   "id": "67f955bc",
   "metadata": {},
   "outputs": [],
   "source": [
    "from langchain_community.tools import WikipediaQueryRun\n",
    "from langchain_community.utilities import WikipediaAPIWrapper"
   ]
  },
  {
   "cell_type": "code",
   "execution_count": null,
   "id": "94fd3813",
   "metadata": {},
   "outputs": [],
   "source": [
    "api_wrapper = WikipediaAPIWrapper(top_k_results = 5, doc_content_chars_max=5000)\n",
    "wiki_tool = WikipediaQueryRun(api_wrapper = api_wrapper)"
   ]
  },
  {
   "cell_type": "code",
   "execution_count": null,
   "id": "105a6f90",
   "metadata": {},
   "outputs": [],
   "source": [
    "wiki_tool.args"
   ]
  },
  {
   "cell_type": "code",
   "execution_count": null,
   "id": "b0feda69",
   "metadata": {},
   "outputs": [],
   "source": [
    "wiki_tool.run(\"IPL Titles by team\")"
   ]
  },
  {
   "cell_type": "code",
   "execution_count": null,
   "id": "a2fbf6ac",
   "metadata": {},
   "outputs": [],
   "source": [
    "from langchain_community.tools.tavily_search import TavilySearchResults\n"
   ]
  },
  {
   "cell_type": "code",
   "execution_count": null,
   "id": "f5123c44",
   "metadata": {},
   "outputs": [],
   "source": [
    "import os\n",
    "TAVILY_API_KEY = os.getenv(\"TAVILY_API_KEY\")"
   ]
  },
  {
   "cell_type": "code",
   "execution_count": null,
   "id": "88aa9e49",
   "metadata": {},
   "outputs": [],
   "source": [
    "tool=TavilySearchResults(tavily_api_key=TAVILY_API_KEY)\n"
   ]
  },
  {
   "cell_type": "code",
   "execution_count": null,
   "id": "fe791864",
   "metadata": {},
   "outputs": [],
   "source": [
    "tool.invoke({\"query\":\"Kubera Movie collection\"})"
   ]
  },
  {
   "cell_type": "code",
   "execution_count": null,
   "id": "2f43757c",
   "metadata": {},
   "outputs": [],
   "source": [
    "from langchain.agents import tool\n"
   ]
  },
  {
   "cell_type": "code",
   "execution_count": null,
   "id": "393262f8",
   "metadata": {},
   "outputs": [],
   "source": [
    "from langchain_community.utilities import ArxivAPIWrapper\n",
    "\n",
    "arxiv_wrapper = ArxivAPIWrapper(top_k_results=5)\n",
    "docs = arxiv_wrapper.run(\"Caprice Stanley\")\n",
    "docs\n"
   ]
  },
  {
   "cell_type": "code",
   "execution_count": 58,
   "id": "228e4b21",
   "metadata": {},
   "outputs": [],
   "source": [
    "## Custom Tool\n",
    "from langchain.agents import tool\n",
    "@tool\n",
    "def multiply (a: int, b: int) -> int:\n",
    "    '''THis is custom tool to multipl two numbers'''\n",
    "    return a*b"
   ]
  },
  {
   "cell_type": "code",
   "execution_count": 59,
   "id": "b87b8dee",
   "metadata": {},
   "outputs": [
    {
     "data": {
      "text/plain": [
       "6"
      ]
     },
     "execution_count": 59,
     "metadata": {},
     "output_type": "execute_result"
    }
   ],
   "source": [
    "multiply.invoke({\"a\":2, \"b\":3})"
   ]
  },
  {
   "cell_type": "code",
   "execution_count": 60,
   "id": "3a3249ee",
   "metadata": {},
   "outputs": [
    {
     "data": {
      "text/plain": [
       "{'a': {'title': 'A', 'type': 'integer'},\n",
       " 'b': {'title': 'B', 'type': 'integer'}}"
      ]
     },
     "execution_count": 60,
     "metadata": {},
     "output_type": "execute_result"
    }
   ],
   "source": [
    "multiply.args"
   ]
  },
  {
   "cell_type": "code",
   "execution_count": 62,
   "id": "1a783f7d",
   "metadata": {},
   "outputs": [],
   "source": [
    "@tool\n",
    "def get_word_length(word: str) -> int:\n",
    "    '''This is a custom tool to get the length of a word'''\n",
    "    return len(word)\n"
   ]
  },
  {
   "cell_type": "code",
   "execution_count": 64,
   "id": "bdc23481",
   "metadata": {},
   "outputs": [],
   "source": [
    "result = get_word_length.invoke({\"word\":\"Vivek\"})"
   ]
  },
  {
   "cell_type": "markdown",
   "id": "541121f7",
   "metadata": {},
   "source": []
  }
 ],
 "metadata": {
  "kernelspec": {
   "display_name": "Python 3",
   "language": "python",
   "name": "python3"
  },
  "language_info": {
   "codemirror_mode": {
    "name": "ipython",
    "version": 3
   },
   "file_extension": ".py",
   "mimetype": "text/x-python",
   "name": "python",
   "nbconvert_exporter": "python",
   "pygments_lexer": "ipython3",
   "version": "3.13.0"
  }
 },
 "nbformat": 4,
 "nbformat_minor": 5
}
