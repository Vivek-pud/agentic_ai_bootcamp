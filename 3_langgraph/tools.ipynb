{
 "cells": [
  {
   "cell_type": "code",
   "execution_count": null,
   "id": "67f955bc",
   "metadata": {},
   "outputs": [],
   "source": [
    "from langchain_community.tools import WikipediaQueryRun\n",
    "from langchain_community.utilities import WikipediaAPIWrapper"
   ]
  },
  {
   "cell_type": "code",
   "execution_count": null,
   "id": "94fd3813",
   "metadata": {},
   "outputs": [],
   "source": [
    "api_wrapper = WikipediaAPIWrapper(top_k_results = 5, doc_content_chars_max=500)"
   ]
  },
  {
   "cell_type": "code",
   "execution_count": null,
   "id": "304111d2",
   "metadata": {},
   "outputs": [],
   "source": [
    "wiki_tool = WikipediaQueryRun(api_wrapper = api_wrapper)"
   ]
  },
  {
   "cell_type": "code",
   "execution_count": null,
   "id": "105a6f90",
   "metadata": {},
   "outputs": [],
   "source": [
    "wiki_tool.args"
   ]
  },
  {
   "cell_type": "code",
   "execution_count": null,
   "id": "b0feda69",
   "metadata": {},
   "outputs": [],
   "source": [
    "wiki_tool.run(\"RCB\")"
   ]
  },
  {
   "cell_type": "code",
   "execution_count": null,
   "id": "a2fbf6ac",
   "metadata": {},
   "outputs": [],
   "source": [
    "from langchain_community.tools.tavily_search import TavilySearchResults\n"
   ]
  },
  {
   "cell_type": "code",
   "execution_count": null,
   "id": "f5123c44",
   "metadata": {},
   "outputs": [],
   "source": [
    "import os\n",
    "TAVILY_API_KEY = os.getenv(\"TAVILY_API_KEY\")"
   ]
  },
  {
   "cell_type": "code",
   "execution_count": null,
   "id": "88aa9e49",
   "metadata": {},
   "outputs": [],
   "source": [
    "tool=TavilySearchResults(tavily_api_key=TAVILY_API_KEY)\n"
   ]
  },
  {
   "cell_type": "code",
   "execution_count": null,
   "id": "fe791864",
   "metadata": {},
   "outputs": [],
   "source": [
    "tool.invoke({\"query\":\"What happened in RCB parade\"})"
   ]
  },
  {
   "cell_type": "code",
   "execution_count": null,
   "id": "2f43757c",
   "metadata": {},
   "outputs": [],
   "source": [
    "from langchain.agents import tool\n"
   ]
  }
 ],
 "metadata": {
  "kernelspec": {
   "display_name": "Python 3",
   "language": "python",
   "name": "python3"
  },
  "language_info": {
   "codemirror_mode": {
    "name": "ipython",
    "version": 3
   },
   "file_extension": ".py",
   "mimetype": "text/x-python",
   "name": "python",
   "nbconvert_exporter": "python",
   "pygments_lexer": "ipython3",
   "version": "3.13.0"
  }
 },
 "nbformat": 4,
 "nbformat_minor": 5
}
