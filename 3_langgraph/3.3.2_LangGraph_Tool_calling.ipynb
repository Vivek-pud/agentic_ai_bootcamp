{
 "cells": [
  {
   "cell_type": "code",
   "execution_count": null,
   "id": "2b6b0b43",
   "metadata": {},
   "outputs": [],
   "source": [
    "from dotenv import load_dotenv\n",
    "load_dotenv()\n",
    "import os\n",
    "os.environ['GROQ_API_KEY'] = os.getenv(\"GROQ_API_KEY\")"
   ]
  },
  {
   "cell_type": "code",
   "execution_count": null,
   "id": "5c9fc0a5",
   "metadata": {},
   "outputs": [],
   "source": [
    "from langchain_groq import ChatGroq\n",
    "llm=ChatGroq(model_name=\"deepseek-r1-distill-llama-70b\")\n",
    "llm.invoke(\"hi\").content"
   ]
  },
  {
   "cell_type": "code",
   "execution_count": null,
   "id": "441930cc",
   "metadata": {},
   "outputs": [],
   "source": [
    "## Import all the necessary libraries\n",
    "\n",
    "from langchain_core.tools import tool\n",
    "from langchain_core.messages import HumanMessage, AIMessage\n",
    "from langgraph.graph import StateGraph,MessagesState,START,END\n",
    "from langgraph.prebuilt import ToolNode"
   ]
  },
  {
   "cell_type": "code",
   "execution_count": null,
   "id": "b34741c0",
   "metadata": {},
   "outputs": [],
   "source": [
    "def call_model(state: MessagesState):\n",
    "    messages = state['messages']\n",
    "    response = llm.invoke(messages)\n",
    "    return {\"messages\": [response]}"
   ]
  },
  {
   "cell_type": "code",
   "execution_count": null,
   "id": "81f3c036",
   "metadata": {},
   "outputs": [],
   "source": [
    "state={\"messages\":[\"hi hello how are you?\"]}\n",
    "call_model(state)"
   ]
  },
  {
   "cell_type": "code",
   "execution_count": null,
   "id": "4b8c1a1a",
   "metadata": {},
   "outputs": [],
   "source": [
    "workflow = StateGraph(MessagesState)"
   ]
  },
  {
   "cell_type": "code",
   "execution_count": null,
   "id": "d3bf720b",
   "metadata": {},
   "outputs": [],
   "source": [
    "workflow.add_node(\"vivek_bot\", call_model)"
   ]
  },
  {
   "cell_type": "code",
   "execution_count": null,
   "id": "d383e362",
   "metadata": {},
   "outputs": [],
   "source": [
    "workflow.add_edge(START, \"vivek_bot\")"
   ]
  },
  {
   "cell_type": "code",
   "execution_count": null,
   "id": "e0035729",
   "metadata": {},
   "outputs": [],
   "source": [
    "workflow.add_edge(\"vivek_bot\", END)"
   ]
  },
  {
   "cell_type": "code",
   "execution_count": null,
   "id": "ab0308c2",
   "metadata": {},
   "outputs": [],
   "source": [
    "app = workflow.compile()"
   ]
  },
  {
   "cell_type": "code",
   "execution_count": null,
   "id": "61924cf5",
   "metadata": {},
   "outputs": [],
   "source": [
    "from IPython.display import Image, display\n",
    "display(Image(app.get_graph().draw_mermaid_png()))\n"
   ]
  },
  {
   "cell_type": "code",
   "execution_count": null,
   "id": "1369e6d1",
   "metadata": {},
   "outputs": [],
   "source": [
    "app.invoke({\"messages\":\"hi hello how are you?\"})"
   ]
  },
  {
   "cell_type": "code",
   "execution_count": 118,
   "id": "6308f8e4",
   "metadata": {},
   "outputs": [],
   "source": [
    "@tool\n",
    "def search(query: str) :\n",
    "    \"\"\"This is a tool to search weather information\"\"\"\n",
    "    if 'adoni' in query.lower():\n",
    "        return \"The weather in Adoni is 45 degrees celsius\"\n",
    "    else:\n",
    "        return \"The temperature is 30 degrees celsius\""
   ]
  },
  {
   "cell_type": "code",
   "execution_count": 119,
   "id": "8c472422",
   "metadata": {},
   "outputs": [
    {
     "data": {
      "text/plain": [
       "'The temperature is 30 degrees celsius'"
      ]
     },
     "execution_count": 119,
     "metadata": {},
     "output_type": "execute_result"
    }
   ],
   "source": [
    "search.invoke(\"What is the weather in Adon?\")"
   ]
  },
  {
   "cell_type": "code",
   "execution_count": 120,
   "id": "f8932235",
   "metadata": {},
   "outputs": [],
   "source": [
    "tools = [search]"
   ]
  },
  {
   "cell_type": "code",
   "execution_count": 121,
   "id": "adc41269",
   "metadata": {},
   "outputs": [],
   "source": [
    "tool_node = ToolNode(tools)"
   ]
  },
  {
   "cell_type": "code",
   "execution_count": 122,
   "id": "43a5017e",
   "metadata": {},
   "outputs": [],
   "source": [
    "llm_with_tools = llm.bind_tools(tools)"
   ]
  },
  {
   "cell_type": "code",
   "execution_count": 123,
   "id": "a7bfa031",
   "metadata": {},
   "outputs": [
    {
     "data": {
      "text/plain": [
       "''"
      ]
     },
     "execution_count": 123,
     "metadata": {},
     "output_type": "execute_result"
    }
   ],
   "source": [
    "llm_with_tools.invoke(\"What is the weather in Adoni?\").content"
   ]
  },
  {
   "cell_type": "code",
   "execution_count": 124,
   "id": "066c8827",
   "metadata": {},
   "outputs": [],
   "source": [
    "def call_model(state: MessagesState):\n",
    "    messages = state[\"messages\"]\n",
    "    response = llm_with_tools.invoke(messages)\n",
    "    return {\"messages\": [response]}"
   ]
  },
  {
   "cell_type": "code",
   "execution_count": 125,
   "id": "1113bc61",
   "metadata": {},
   "outputs": [
    {
     "data": {
      "text/plain": [
       "{'messages': [AIMessage(content='', additional_kwargs={'tool_calls': [{'id': '569t304nq', 'function': {'arguments': '{\"query\":\"Adoni weather\"}', 'name': 'search'}, 'type': 'function'}]}, response_metadata={'token_usage': {'completion_tokens': 113, 'prompt_tokens': 132, 'total_tokens': 245, 'completion_time': 0.552130006, 'prompt_time': 0.008931038, 'queue_time': 0.063876765, 'total_time': 0.561061044}, 'model_name': 'deepseek-r1-distill-llama-70b', 'system_fingerprint': 'fp_1bbe7845ec', 'finish_reason': 'tool_calls', 'logprobs': None}, id='run--c6ab1353-52d8-494d-ba53-89a6a5c64680-0', tool_calls=[{'name': 'search', 'args': {'query': 'Adoni weather'}, 'id': '569t304nq', 'type': 'tool_call'}], usage_metadata={'input_tokens': 132, 'output_tokens': 113, 'total_tokens': 245})]}"
      ]
     },
     "execution_count": 125,
     "metadata": {},
     "output_type": "execute_result"
    }
   ],
   "source": [
    "state={\"messages\":[\"What is the weather in Adoni?\"]}\n",
    "call_model(state)"
   ]
  },
  {
   "cell_type": "code",
   "execution_count": 126,
   "id": "ed21cfca",
   "metadata": {},
   "outputs": [],
   "source": [
    "def router(state: MessagesState):\n",
    "    messages = state[\"messages\"]\n",
    "    last_message = state[\"messages\"][-1]\n",
    "    if last_message.tool_calls:\n",
    "        return \"tools\"\n",
    "    return END\n",
    "    "
   ]
  },
  {
   "cell_type": "code",
   "execution_count": 127,
   "id": "62db79da",
   "metadata": {},
   "outputs": [],
   "source": [
    "workflow_2 = StateGraph(MessagesState)"
   ]
  },
  {
   "cell_type": "code",
   "execution_count": 128,
   "id": "3d26363b",
   "metadata": {},
   "outputs": [
    {
     "data": {
      "text/plain": [
       "<langgraph.graph.state.StateGraph at 0x212db636fd0>"
      ]
     },
     "execution_count": 128,
     "metadata": {},
     "output_type": "execute_result"
    }
   ],
   "source": [
    "workflow_2.add_node(\"llm_with_tools\", call_model)\n"
   ]
  },
  {
   "cell_type": "code",
   "execution_count": 129,
   "id": "fb2d14aa",
   "metadata": {},
   "outputs": [
    {
     "data": {
      "text/plain": [
       "<langgraph.graph.state.StateGraph at 0x212db636fd0>"
      ]
     },
     "execution_count": 129,
     "metadata": {},
     "output_type": "execute_result"
    }
   ],
   "source": [
    "workflow_2.add_node(\"mytools\", tool_node) "
   ]
  },
  {
   "cell_type": "code",
   "execution_count": 130,
   "id": "bb340267",
   "metadata": {},
   "outputs": [
    {
     "data": {
      "text/plain": [
       "<langgraph.graph.state.StateGraph at 0x212db636fd0>"
      ]
     },
     "execution_count": 130,
     "metadata": {},
     "output_type": "execute_result"
    }
   ],
   "source": [
    "workflow_2.add_edge(START, \"llm_with_tools\")"
   ]
  },
  {
   "cell_type": "code",
   "execution_count": 131,
   "id": "6a0de88c",
   "metadata": {},
   "outputs": [
    {
     "data": {
      "text/plain": [
       "<langgraph.graph.state.StateGraph at 0x212db636fd0>"
      ]
     },
     "execution_count": 131,
     "metadata": {},
     "output_type": "execute_result"
    }
   ],
   "source": [
    "workflow_2.add_conditional_edges(\"llm_with_tools\",\n",
    "                                router,\n",
    "                                {\"tools\":\"mytools\",\n",
    "                                 END:END})"
   ]
  },
  {
   "cell_type": "code",
   "execution_count": 132,
   "id": "ac551a54",
   "metadata": {},
   "outputs": [],
   "source": [
    "app2=workflow_2.compile()\n"
   ]
  },
  {
   "cell_type": "code",
   "execution_count": null,
   "id": "0b817483",
   "metadata": {},
   "outputs": [],
   "source": [
    "\n",
    "from IPython.display import Image, display\n",
    "display(Image(app2.get_graph().draw_mermaid_png()))"
   ]
  },
  {
   "cell_type": "code",
   "execution_count": null,
   "id": "facba270",
   "metadata": {},
   "outputs": [],
   "source": [
    "response=app2.invoke({\"messages\":[\"what is a weather in adoni?\"]})\n"
   ]
  },
  {
   "cell_type": "code",
   "execution_count": null,
   "id": "10c8d409",
   "metadata": {},
   "outputs": [],
   "source": [
    "response[\"messages\"][-1].content\n"
   ]
  },
  {
   "cell_type": "code",
   "execution_count": null,
   "id": "4957571b",
   "metadata": {},
   "outputs": [],
   "source": [
    "response_1 = app2.invoke({\"messages\":[\"what is a weather in oni?\"]})\n",
    "response_1[\"messages\"][-1].content"
   ]
  },
  {
   "cell_type": "code",
   "execution_count": 133,
   "id": "d0703adf",
   "metadata": {},
   "outputs": [
    {
     "name": "stderr",
     "output_type": "stream",
     "text": [
      "Adding an edge to a graph that has already been compiled. This will not be reflected in the compiled graph.\n"
     ]
    },
    {
     "data": {
      "text/plain": [
       "<langgraph.graph.state.StateGraph at 0x212db636fd0>"
      ]
     },
     "execution_count": 133,
     "metadata": {},
     "output_type": "execute_result"
    }
   ],
   "source": [
    "workflow_2.add_edge(\"mytools\",\"llm_with_tools\")\n"
   ]
  },
  {
   "cell_type": "code",
   "execution_count": 134,
   "id": "3b11cd38",
   "metadata": {},
   "outputs": [],
   "source": [
    "app3=workflow_2.compile()"
   ]
  },
  {
   "cell_type": "code",
   "execution_count": 135,
   "id": "9fde1a3c",
   "metadata": {},
   "outputs": [
    {
     "data": {
      "image/png": "[encoded data removed]",
      "text/plain": [
       "<IPython.core.display.Image object>"
      ]
     },
     "metadata": {},
     "output_type": "display_data"
    }
   ],
   "source": [
    "from IPython.display import Image, display\n",
    "display(Image(app3.get_graph().draw_mermaid_png()))"
   ]
  },
  {
   "cell_type": "code",
   "execution_count": 137,
   "id": "995f2c6c",
   "metadata": {},
   "outputs": [
    {
     "name": "stdout",
     "output_type": "stream",
     "text": [
      "here is output from llm_with_tools\n",
      "_______\n",
      "{'messages': [AIMessage(content='', additional_kwargs={'tool_calls': [{'id': 'fh0y1npq6', 'function': {'arguments': '{\"query\":\"Adoni weather\"}', 'name': 'search'}, 'type': 'function'}]}, response_metadata={'token_usage': {'completion_tokens': 126, 'prompt_tokens': 132, 'total_tokens': 258, 'completion_time': 0.579051928, 'prompt_time': 0.008438096, 'queue_time': 0.071582704, 'total_time': 0.587490024}, 'model_name': 'deepseek-r1-distill-llama-70b', 'system_fingerprint': 'fp_1bbe7845ec', 'finish_reason': 'tool_calls', 'logprobs': None}, id='run--e7fbb445-f173-416a-8889-bb0e6f93248b-0', tool_calls=[{'name': 'search', 'args': {'query': 'Adoni weather'}, 'id': 'fh0y1npq6', 'type': 'tool_call'}], usage_metadata={'input_tokens': 132, 'output_tokens': 126, 'total_tokens': 258})]}\n",
      "\n",
      "\n",
      "here is output from mytools\n",
      "_______\n",
      "{'messages': [ToolMessage(content='The weather in Adoni is 45 degrees celsius', name='search', id='f8e10a23-66a8-412f-a1ae-67f932b99ba2', tool_call_id='fh0y1npq6')]}\n",
      "\n",
      "\n",
      "here is output from llm_with_tools\n",
      "_______\n",
      "{'messages': [AIMessage(content=\"The weather in Adoni is currently **45 degrees Celsius**. Let me know if you'd like further details!\", additional_kwargs={}, response_metadata={'token_usage': {'completion_tokens': 247, 'prompt_tokens': 194, 'total_tokens': 441, 'completion_time': 1.099872953, 'prompt_time': 0.018375779, 'queue_time': 0.05597223100000001, 'total_time': 1.118248732}, 'model_name': 'deepseek-r1-distill-llama-70b', 'system_fingerprint': 'fp_1bbe7845ec', 'finish_reason': 'stop', 'logprobs': None}, id='run--efe2b332-7e22-47a6-91b5-a1777013b39c-0', usage_metadata={'input_tokens': 194, 'output_tokens': 247, 'total_tokens': 441})]}\n",
      "\n",
      "\n"
     ]
    }
   ],
   "source": [
    "for output in app3.stream({\"messages\":[\"what is a weather in Adoni?\"]}):\n",
    "    for key,value in output.items():\n",
    "        print(f\"here is output from {key}\")\n",
    "        print(\"_______\")\n",
    "        print(value)\n",
    "        print(\"\\n\")\n"
   ]
  },
  {
   "cell_type": "code",
   "execution_count": 138,
   "id": "1edb1edc",
   "metadata": {},
   "outputs": [],
   "source": [
    "from langgraph.checkpoint.memory import MemorySaver"
   ]
  },
  {
   "cell_type": "code",
   "execution_count": 139,
   "id": "06b29d62",
   "metadata": {},
   "outputs": [],
   "source": [
    "memory=MemorySaver()\n"
   ]
  },
  {
   "cell_type": "code",
   "execution_count": 141,
   "id": "e6ce5003",
   "metadata": {},
   "outputs": [
    {
     "data": {
      "text/plain": [
       "<langgraph.graph.state.StateGraph at 0x212db89c690>"
      ]
     },
     "execution_count": 141,
     "metadata": {},
     "output_type": "execute_result"
    }
   ],
   "source": [
    "workflow3=StateGraph(MessagesState)\n",
    "\n",
    "workflow3.add_node(\"llmwithtool\",call_model)\n",
    "\n",
    "workflow3.add_node(\"mytools\",tool_node)\n",
    "\n",
    "workflow3.add_edge(START,\"llmwithtool\")\n",
    "\n",
    "workflow3.add_conditional_edges(\"llmwithtool\",\n",
    "                                router,\n",
    "                                {\"tools\":\"mytools\",\n",
    "                                 END:END})\n",
    "\n",
    "workflow3.add_edge(\"mytools\",\"llmwithtool\")"
   ]
  },
  {
   "cell_type": "code",
   "execution_count": 142,
   "id": "e5263341",
   "metadata": {},
   "outputs": [],
   "source": [
    "app4=workflow3.compile(checkpointer=memory)\n"
   ]
  },
  {
   "cell_type": "code",
   "execution_count": 143,
   "id": "c5565821",
   "metadata": {},
   "outputs": [
    {
     "data": {
      "image/png": "[encoded data removed]",
      "text/plain": [
       "<IPython.core.display.Image object>"
      ]
     },
     "metadata": {},
     "output_type": "display_data"
    }
   ],
   "source": [
    "from IPython.display import Image, display\n",
    "display(Image(app4.get_graph().draw_mermaid_png()))\n"
   ]
  },
  {
   "cell_type": "code",
   "execution_count": 144,
   "id": "5252f768",
   "metadata": {},
   "outputs": [],
   "source": [
    "config={\"configurable\": {\"thread_id\": \"1\"}}"
   ]
  },
  {
   "cell_type": "code",
   "execution_count": 147,
   "id": "47b082fe",
   "metadata": {},
   "outputs": [],
   "source": [
    "events=app4.stream(\n",
    "    {\"messages\":[\"what is a weather in Adoni delhi?\"]},config=config,stream_mode=\"values\"\n",
    "    )"
   ]
  },
  {
   "cell_type": "code",
   "execution_count": 148,
   "id": "ebc6ae3e",
   "metadata": {},
   "outputs": [
    {
     "name": "stdout",
     "output_type": "stream",
     "text": [
      "================================\u001b[1m Human Message \u001b[0m=================================\n",
      "\n",
      "what is a weather in Adoni delhi?\n",
      "==================================\u001b[1m Ai Message \u001b[0m==================================\n",
      "Tool Calls:\n",
      "  search (f4mxj25n6)\n",
      " Call ID: f4mxj25n6\n",
      "  Args:\n",
      "    query: weather in Adoni Delhi\n",
      "=================================\u001b[1m Tool Message \u001b[0m=================================\n",
      "Name: search\n",
      "\n",
      "The weather in Adoni is 45 degrees celsius\n",
      "==================================\u001b[1m Ai Message \u001b[0m==================================\n",
      "\n",
      "It seems there might be some confusion. Adoni is not located in Delhi; it is a city in Karnataka, India. The weather in Adoni is currently **45 degrees Celsius**. If you meant to ask about Delhi, please let me know, and I'll be happy to provide that information!\n"
     ]
    }
   ],
   "source": [
    "for event in events:\n",
    "    event[\"messages\"][-1].pretty_print()\n"
   ]
  }
 ],
 "metadata": {
  "kernelspec": {
   "display_name": "Python 3",
   "language": "python",
   "name": "python3"
  },
  "language_info": {
   "codemirror_mode": {
    "name": "ipython",
    "version": 3
   },
   "file_extension": ".py",
   "mimetype": "text/x-python",
   "name": "python",
   "nbconvert_exporter": "python",
   "pygments_lexer": "ipython3",
   "version": "3.13.0"
  }
 },
 "nbformat": 4,
 "nbformat_minor": 5
}
